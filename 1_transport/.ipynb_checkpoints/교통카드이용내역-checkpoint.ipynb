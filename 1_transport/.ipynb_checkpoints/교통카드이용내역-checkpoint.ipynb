{
 "cells": [
  {
   "cell_type": "code",
   "execution_count": 87,
   "id": "7aa085a9-4b0a-4661-b0fe-5c194b560285",
   "metadata": {},
   "outputs": [],
   "source": [
    "import pandas as pd\n",
    "import numpy as np\n",
    "import matplotlib.pyplot as plt\n",
    "import matplotlib.font_manager as fm\n",
    "import platform\n",
    "\n",
    "# 운영체제에 따라 폰트 설정\n",
    "if platform.system() == 'Windows':\n",
    "    plt.rcParams['font.family'] = 'Malgun Gothic'  # 윈도우 기본 한글 폰트\n",
    "elif platform.system() == 'Darwin':  # macOS\n",
    "    plt.rcParams['font.family'] = 'AppleGothic'\n",
    "else:\n",
    "    plt.rcParams['font.family'] = 'NanumGothic'  # 리눅스용 나눔폰트 설치 필요\n",
    "\n",
    "# 마이너스 깨짐 방지\n",
    "plt.rcParams['axes.unicode_minus'] = False"
   ]
  },
  {
   "cell_type": "code",
   "execution_count": 89,
   "id": "5c9225ca-8e75-4124-b7ac-4942bbbf7b36",
   "metadata": {},
   "outputs": [
    {
     "data": {
      "text/plain": [
       "((1000, 18), (10, 9), (20, 14), (20, 10))"
      ]
     },
     "execution_count": 89,
     "metadata": {},
     "output_type": "execute_result"
    }
   ],
   "source": [
    "ts_df = pd.read_csv('data/ts.csv')\n",
    "ns_df = pd.read_csv('data/ns.csv')\n",
    "nsj_df = pd.read_csv('data/nsj.csv')\n",
    "j_df = pd.read_csv('data/j.csv')\n",
    "\n",
    "ts_df.shape, ns_df.shape, nsj_df.shape, j_df.shape"
   ]
  },
  {
   "cell_type": "code",
   "execution_count": 91,
   "id": "3d1862a9-b2b5-4db6-b10e-fbedc02ab1e6",
   "metadata": {},
   "outputs": [
    {
     "data": {
      "text/plain": [
       "Index(['운행일자', '정산사ID', '가상카드번호', '정산지역코드', '카드구분코드', '정산사차량ID', '교통수단코드',\n",
       "       '정산사노선ID', '승차일시', '정산사승차정류장ID', '하차일시', '정산사하차정류장ID', '트랜잭션ID', '환승건수',\n",
       "       '이용자유형코드(시스템)', '이용자수', '이용거리', '탑승시간'],\n",
       "      dtype='object')"
      ]
     },
     "execution_count": 91,
     "metadata": {},
     "output_type": "execute_result"
    }
   ],
   "source": [
    "ts_df.columns"
   ]
  },
  {
   "cell_type": "code",
   "execution_count": 93,
   "id": "66b6eccc-c617-4de6-b6ea-c7a55017f97e",
   "metadata": {},
   "outputs": [
    {
     "data": {
      "text/html": [
       "<div>\n",
       "<style scoped>\n",
       "    .dataframe tbody tr th:only-of-type {\n",
       "        vertical-align: middle;\n",
       "    }\n",
       "\n",
       "    .dataframe tbody tr th {\n",
       "        vertical-align: top;\n",
       "    }\n",
       "\n",
       "    .dataframe thead th {\n",
       "        text-align: right;\n",
       "    }\n",
       "</style>\n",
       "<table border=\"1\" class=\"dataframe\">\n",
       "  <thead>\n",
       "    <tr style=\"text-align: right;\">\n",
       "      <th></th>\n",
       "      <th>교통수단</th>\n",
       "      <th>평균이용거리(m)</th>\n",
       "      <th>평균탑승시간(분)</th>\n",
       "      <th>총이용자수</th>\n",
       "    </tr>\n",
       "  </thead>\n",
       "  <tbody>\n",
       "    <tr>\n",
       "      <th>0</th>\n",
       "      <td>버스</td>\n",
       "      <td>13127.636</td>\n",
       "      <td>31.68</td>\n",
       "      <td>500</td>\n",
       "    </tr>\n",
       "    <tr>\n",
       "      <th>1</th>\n",
       "      <td>지하철</td>\n",
       "      <td>12706.572</td>\n",
       "      <td>31.63</td>\n",
       "      <td>500</td>\n",
       "    </tr>\n",
       "  </tbody>\n",
       "</table>\n",
       "</div>"
      ],
      "text/plain": [
       "  교통수단  평균이용거리(m)  평균탑승시간(분)  총이용자수\n",
       "0   버스  13127.636      31.68    500\n",
       "1  지하철  12706.572      31.63    500"
      ]
     },
     "execution_count": 93,
     "metadata": {},
     "output_type": "execute_result"
    }
   ],
   "source": [
    "# 교통수단코드를 문자열로 변환한 뒤 다시 매핑\n",
    "ts_df['교통수단코드'] = ts_df['교통수단코드'].astype(str)\n",
    "ts_df['교통수단'] = ts_df['교통수단코드'].map({'1': '버스', '2': '지하철'})\n",
    "\n",
    "# 분석 재수행\n",
    "transport_summary = ts_df.groupby('교통수단').agg({\n",
    "    '이용거리': 'mean',\n",
    "    '탑승시간': 'mean',\n",
    "    '이용자수': 'sum'\n",
    "}).reset_index()\n",
    "\n",
    "transport_summary.columns = ['교통수단', '평균이용거리(m)', '평균탑승시간(분)', '총이용자수']\n",
    "transport_summary"
   ]
  },
  {
   "cell_type": "code",
   "execution_count": 95,
   "id": "6c6fcf01-eebd-49bf-ac3c-7fe4a416e26e",
   "metadata": {},
   "outputs": [
    {
     "data": {
      "image/png": "[encoded data removed]",
      "text/plain": [
       "<Figure size 800x400 with 1 Axes>"
      ]
     },
     "metadata": {},
     "output_type": "display_data"
    }
   ],
   "source": [
    "# 승차일시를 datetime으로 변환\n",
    "ts_df['승차일시_dt'] = pd.to_datetime(ts_df['승차일시'], format='%Y%m%d%H%M%S', errors='coerce')\n",
    "ts_df['승차시'] = ts_df['승차일시_dt'].dt.hour\n",
    "\n",
    "# 출근 시간대(07~09시) 데이터 필터링\n",
    "commute_df = ts_df[(ts_df['승차시'] >= 7) & (ts_df['승차시'] <= 9)]\n",
    "\n",
    "# 시간대별 이용자 수 집계\n",
    "commute_by_hour = commute_df.groupby('승차시')['이용자수'].sum().reset_index()\n",
    "\n",
    "plt.figure(figsize=(8, 4))\n",
    "plt.bar(commute_by_hour['승차시'], commute_by_hour['이용자수'], color='skyblue')\n",
    "plt.xticks(commute_by_hour['승차시'])\n",
    "plt.xlabel('승차 시간대 (시)')\n",
    "plt.ylabel('이용자 수')\n",
    "plt.title('출근 시간대(07~09시) 대중교통 이용자 수')\n",
    "plt.grid(axis='y')\n",
    "plt.tight_layout()\n",
    "plt.show()"
   ]
  },
  {
   "cell_type": "code",
   "execution_count": 97,
   "id": "cde1243a-4808-456d-93ee-46039c8f9acc",
   "metadata": {},
   "outputs": [
    {
     "data": {
      "text/html": [
       "<div>\n",
       "<style scoped>\n",
       "    .dataframe tbody tr th:only-of-type {\n",
       "        vertical-align: middle;\n",
       "    }\n",
       "\n",
       "    .dataframe tbody tr th {\n",
       "        vertical-align: top;\n",
       "    }\n",
       "\n",
       "    .dataframe thead th {\n",
       "        text-align: right;\n",
       "    }\n",
       "</style>\n",
       "<table border=\"1\" class=\"dataframe\">\n",
       "  <thead>\n",
       "    <tr style=\"text-align: right;\">\n",
       "      <th>교통수단</th>\n",
       "      <th>버스</th>\n",
       "      <th>지하철</th>\n",
       "    </tr>\n",
       "    <tr>\n",
       "      <th>요일</th>\n",
       "      <th></th>\n",
       "      <th></th>\n",
       "    </tr>\n",
       "  </thead>\n",
       "  <tbody>\n",
       "    <tr>\n",
       "      <th>금</th>\n",
       "      <td>75</td>\n",
       "      <td>69</td>\n",
       "    </tr>\n",
       "    <tr>\n",
       "      <th>목</th>\n",
       "      <td>81</td>\n",
       "      <td>63</td>\n",
       "    </tr>\n",
       "    <tr>\n",
       "      <th>수</th>\n",
       "      <td>80</td>\n",
       "      <td>64</td>\n",
       "    </tr>\n",
       "    <tr>\n",
       "      <th>월</th>\n",
       "      <td>63</td>\n",
       "      <td>75</td>\n",
       "    </tr>\n",
       "    <tr>\n",
       "      <th>일</th>\n",
       "      <td>64</td>\n",
       "      <td>78</td>\n",
       "    </tr>\n",
       "    <tr>\n",
       "      <th>토</th>\n",
       "      <td>74</td>\n",
       "      <td>70</td>\n",
       "    </tr>\n",
       "    <tr>\n",
       "      <th>화</th>\n",
       "      <td>63</td>\n",
       "      <td>81</td>\n",
       "    </tr>\n",
       "  </tbody>\n",
       "</table>\n",
       "</div>"
      ],
      "text/plain": [
       "교통수단  버스  지하철\n",
       "요일           \n",
       "금     75   69\n",
       "목     81   63\n",
       "수     80   64\n",
       "월     63   75\n",
       "일     64   78\n",
       "토     74   70\n",
       "화     63   81"
      ]
     },
     "execution_count": 97,
     "metadata": {},
     "output_type": "execute_result"
    }
   ],
   "source": [
    "ts_df['승차일시_dt'] = pd.to_datetime(ts_df['승차일시'], format='%Y%m%d%H%M%S', errors='coerce')\n",
    "ts_df['요일'] = ts_df['승차일시_dt'].dt.dayofweek  # 0 = 월, 6 = 일\n",
    "\n",
    "# 요일별 교통수단별 이용자 수 집계\n",
    "weekday_transport = ts_df.groupby(['요일', '교통수단'])['이용자수'].sum().reset_index()\n",
    "\n",
    "# 숫자 요일 → 한글 요일로 매핑\n",
    "weekday_map = {0: '월', 1: '화', 2: '수', 3: '목', 4: '금', 5: '토', 6: '일'}\n",
    "weekday_transport['요일'] = weekday_transport['요일'].map(weekday_map)\n",
    "\n",
    "# 피벗 테이블로 보기 좋게 변환\n",
    "pivot_df = weekday_transport.pivot(index='요일', columns='교통수단', values='이용자수').fillna(0).astype(int)\n",
    "pivot_df"
   ]
  },
  {
   "cell_type": "code",
   "execution_count": 99,
   "id": "ac269998-b6f9-48f4-9d5a-7f695fe09844",
   "metadata": {},
   "outputs": [
    {
     "data": {
      "image/png": "[encoded data removed]",
      "text/plain": [
       "<Figure size 1000x500 with 1 Axes>"
      ]
     },
     "metadata": {},
     "output_type": "display_data"
    }
   ],
   "source": [
    "plt.rcParams['font.family'] = 'AppleGothic'\n",
    "plt.rcParams['axes.unicode_minus'] = False\n",
    "\n",
    "pivot_df.plot(kind='bar', stacked=True, figsize=(10, 5))\n",
    "plt.title(\"요일별 교통수단별 이용자 수\")\n",
    "plt.xlabel(\"요일\")\n",
    "plt.ylabel(\"이용자 수\")\n",
    "plt.legend(title=\"교통수단\")\n",
    "plt.grid(axis='y')\n",
    "plt.tight_layout()\n",
    "plt.show()"
   ]
  },
  {
   "cell_type": "code",
   "execution_count": 101,
   "id": "91bff572-e831-4f55-bcee-e9822f3f7e8e",
   "metadata": {},
   "outputs": [
    {
     "data": {
      "text/html": [
       "<div>\n",
       "<style scoped>\n",
       "    .dataframe tbody tr th:only-of-type {\n",
       "        vertical-align: middle;\n",
       "    }\n",
       "\n",
       "    .dataframe tbody tr th {\n",
       "        vertical-align: top;\n",
       "    }\n",
       "\n",
       "    .dataframe thead th {\n",
       "        text-align: right;\n",
       "    }\n",
       "</style>\n",
       "<table border=\"1\" class=\"dataframe\">\n",
       "  <thead>\n",
       "    <tr style=\"text-align: right;\">\n",
       "      <th></th>\n",
       "      <th>정산사승차정류장ID</th>\n",
       "      <th>정류장명칭</th>\n",
       "      <th>승차일시</th>\n",
       "      <th>이용자수</th>\n",
       "      <th>정류장GPSY좌표</th>\n",
       "      <th>정류장GPSX좌표</th>\n",
       "    </tr>\n",
       "  </thead>\n",
       "  <tbody>\n",
       "    <tr>\n",
       "      <th>0</th>\n",
       "      <td>STOP0004</td>\n",
       "      <td>정류장_4</td>\n",
       "      <td>20240101060000</td>\n",
       "      <td>1</td>\n",
       "      <td>37.586388</td>\n",
       "      <td>126.911141</td>\n",
       "    </tr>\n",
       "    <tr>\n",
       "      <th>1</th>\n",
       "      <td>STOP0005</td>\n",
       "      <td>정류장_5</td>\n",
       "      <td>20240101070000</td>\n",
       "      <td>1</td>\n",
       "      <td>37.500215</td>\n",
       "      <td>126.910528</td>\n",
       "    </tr>\n",
       "    <tr>\n",
       "      <th>2</th>\n",
       "      <td>STOP0009</td>\n",
       "      <td>정류장_9</td>\n",
       "      <td>20240101080000</td>\n",
       "      <td>1</td>\n",
       "      <td>37.635128</td>\n",
       "      <td>127.007480</td>\n",
       "    </tr>\n",
       "    <tr>\n",
       "      <th>3</th>\n",
       "      <td>STOP0007</td>\n",
       "      <td>정류장_7</td>\n",
       "      <td>20240101090000</td>\n",
       "      <td>1</td>\n",
       "      <td>37.521358</td>\n",
       "      <td>127.192147</td>\n",
       "    </tr>\n",
       "    <tr>\n",
       "      <th>4</th>\n",
       "      <td>STOP0013</td>\n",
       "      <td>정류장_13</td>\n",
       "      <td>20240101100000</td>\n",
       "      <td>1</td>\n",
       "      <td>37.499737</td>\n",
       "      <td>126.961440</td>\n",
       "    </tr>\n",
       "  </tbody>\n",
       "</table>\n",
       "</div>"
      ],
      "text/plain": [
       "  정산사승차정류장ID   정류장명칭            승차일시  이용자수  정류장GPSY좌표   정류장GPSX좌표\n",
       "0   STOP0004   정류장_4  20240101060000     1  37.586388  126.911141\n",
       "1   STOP0005   정류장_5  20240101070000     1  37.500215  126.910528\n",
       "2   STOP0009   정류장_9  20240101080000     1  37.635128  127.007480\n",
       "3   STOP0007   정류장_7  20240101090000     1  37.521358  127.192147\n",
       "4   STOP0013  정류장_13  20240101100000     1  37.499737  126.961440"
      ]
     },
     "execution_count": 101,
     "metadata": {},
     "output_type": "execute_result"
    }
   ],
   "source": [
    "#정류장 이름/좌표 기반 heatmap 시각화\n",
    "\n",
    "# 병합 키를 모두 문자열로 변환\n",
    "ts_df['정산사승차정류장ID'] = ts_df['정산사승차정류장ID'].astype(str)\n",
    "j_df['정류장ID'] = j_df['정류장ID'].astype(str)\n",
    "\n",
    "# 병합 수행\n",
    "merged_df = pd.merge(\n",
    "    ts_df,\n",
    "    j_df[['정류장ID', '정류장명칭', '정류장GPSY좌표', '정류장GPSX좌표']],\n",
    "    left_on='정산사승차정류장ID',\n",
    "    right_on='정류장ID',\n",
    "    how='left'\n",
    ")\n",
    "\n",
    "# 병합 후 데이터 확인\n",
    "merged_df[['정산사승차정류장ID', '정류장명칭', '승차일시', '이용자수', '정류장GPSY좌표', '정류장GPSX좌표']].head()\n"
   ]
  },
  {
   "cell_type": "code",
   "execution_count": 103,
   "id": "7ad3cc89-e3d5-4fa6-90c3-c3214994c7fa",
   "metadata": {},
   "outputs": [
    {
     "data": {
      "image/png": "[encoded data removed]",
      "text/plain": [
       "<Figure size 1400x1000 with 2 Axes>"
      ]
     },
     "metadata": {},
     "output_type": "display_data"
    }
   ],
   "source": [
    "import seaborn as sns\n",
    "\n",
    "df = merged_df\n",
    "\n",
    "# 데이터 로드 및 전처리\n",
    "df['승차일시_dt'] = pd.to_datetime(df['승차일시'], format='%Y%m%d%H%M%S')\n",
    "df['승차시'] = df['승차일시_dt'].dt.hour\n",
    "df['정산사승차정류장ID'] = df['정산사승차정류장ID'].astype(str)\n",
    "\n",
    "# 시간대 × 정류장 ID별 집계\n",
    "pivot = df.groupby(['정산사승차정류장ID', '승차시'])['이용자수'].sum().unstack(fill_value=0)\n",
    "\n",
    "# 시각화\n",
    "plt.figure(figsize=(14, 10))\n",
    "sns.heatmap(pivot, cmap=\"YlGnBu\", linewidths=0.5)\n",
    "plt.title(\"정류장별 시간대별 이용자 수 Heatmap\")\n",
    "plt.xlabel(\"시간대 (시)\")\n",
    "plt.ylabel(\"정류장 ID\")\n",
    "plt.tight_layout()\n",
    "plt.show()\n"
   ]
  },
  {
   "cell_type": "code",
   "execution_count": 75,
   "id": "84efe486-6e30-48ad-b922-ecedce927eea",
   "metadata": {},
   "outputs": [],
   "source": [
    "### 요일, 교통수단, 이용자유형, 승차시(시간대)를 기반으로, 그 시간대에 몇 명이 이용했는지를 예측하는 회귀모델"
   ]
  },
  {
   "cell_type": "code",
   "execution_count": 67,
   "id": "873a4ab1-806c-488f-863a-ae2bcfe45c5c",
   "metadata": {},
   "outputs": [
    {
     "data": {
      "text/plain": [
       "1200"
      ]
     },
     "execution_count": 67,
     "metadata": {},
     "output_type": "execute_result"
    }
   ],
   "source": [
    "# 다시 불러오기\n",
    "ts_df = pd.read_csv(\"data/ts.csv\")\n",
    "\n",
    "# 숫자든 문자열이든 \"1\", \"2\", \"01\", \"02\"로 변환\n",
    "ts_df['교통수단코드'] = ts_df['교통수단코드'].astype(str).str.zfill(1)\n",
    "ts_df['이용자유형코드(시스템)'] = ts_df['이용자유형코드(시스템)'].astype(str).str.zfill(2)\n",
    "\n",
    "# 유효한 값만 필터링\n",
    "ts_df = ts_df[\n",
    "    ts_df['교통수단코드'].isin(['1', '2']) &\n",
    "    ts_df['이용자유형코드(시스템)'].isin(['01', '02', '03', '04'])\n",
    "]\n",
    "\n",
    "# 파생 변수 재생성\n",
    "ts_df['승차일시_dt'] = pd.to_datetime(ts_df['승차일시'], format='%Y%m%d%H%M%S', errors='coerce')\n",
    "ts_df['승차시'] = ts_df['승차일시_dt'].dt.hour\n",
    "ts_df['요일'] = ts_df['승차일시_dt'].dt.dayofweek\n",
    "ts_df['교통수단'] = ts_df['교통수단코드'].map({'1': '버스', '2': '지하철'})\n",
    "ts_df['이용자유형'] = ts_df['이용자유형코드(시스템)'].map({\n",
    "    '01': '일반', '02': '어린이', '03': '청소년', '04': '노인'\n",
    "})\n",
    "\n",
    "# 분석용 데이터 구성\n",
    "model_df = ts_df[['이용자수', '승차시', '요일', '교통수단', '이용자유형']].dropna()\n",
    "\n",
    "# 샘플 수 확인\n",
    "len(model_df)\n"
   ]
  },
  {
   "cell_type": "code",
   "execution_count": 69,
   "id": "e1c84692-9671-4c9c-a775-febf26bad15d",
   "metadata": {},
   "outputs": [
    {
     "name": "stdout",
     "output_type": "stream",
     "text": [
      "MSE: 0.0\n",
      "R²: 1.0\n"
     ]
    }
   ],
   "source": [
    "from sklearn.linear_model import LinearRegression\n",
    "from sklearn.preprocessing import OneHotEncoder\n",
    "from sklearn.compose import ColumnTransformer\n",
    "from sklearn.pipeline import Pipeline\n",
    "from sklearn.model_selection import train_test_split\n",
    "from sklearn.metrics import mean_squared_error, r2_score\n",
    "\n",
    "# X, y 분리\n",
    "X = model_df.drop(columns='이용자수')\n",
    "y = model_df['이용자수']\n",
    "\n",
    "# 훈련/테스트 분리\n",
    "X_train, X_test, y_train, y_test = train_test_split(X, y, test_size=0.2, random_state=42)\n",
    "\n",
    "# 파이프라인 구성\n",
    "categorical_features = ['요일', '교통수단', '이용자유형']\n",
    "preprocessor = ColumnTransformer(\n",
    "    transformers=[('cat', OneHotEncoder(), categorical_features)],\n",
    "    remainder='passthrough'\n",
    ")\n",
    "\n",
    "pipeline = Pipeline([\n",
    "    ('preprocess', preprocessor),\n",
    "    ('regressor', LinearRegression())\n",
    "])\n",
    "\n",
    "# 모델 학습\n",
    "pipeline.fit(X_train, y_train)\n",
    "\n",
    "# 예측 및 성능 평가\n",
    "y_pred = pipeline.predict(X_test)\n",
    "mse = mean_squared_error(y_test, y_pred)\n",
    "r2 = r2_score(y_test, y_pred)\n",
    "\n",
    "print(\"MSE:\", mse)\n",
    "print(\"R²:\", r2)\n"
   ]
  },
  {
   "cell_type": "code",
   "execution_count": 71,
   "id": "d42ed93c-8794-4c5e-b3c6-f3e691a66e58",
   "metadata": {},
   "outputs": [
    {
     "name": "stdout",
     "output_type": "stream",
     "text": [
      "이용자수\n",
      "1    1200\n",
      "Name: count, dtype: int64\n"
     ]
    },
    {
     "data": {
      "text/html": [
       "<div>\n",
       "<style scoped>\n",
       "    .dataframe tbody tr th:only-of-type {\n",
       "        vertical-align: middle;\n",
       "    }\n",
       "\n",
       "    .dataframe tbody tr th {\n",
       "        vertical-align: top;\n",
       "    }\n",
       "\n",
       "    .dataframe thead th {\n",
       "        text-align: right;\n",
       "    }\n",
       "</style>\n",
       "<table border=\"1\" class=\"dataframe\">\n",
       "  <thead>\n",
       "    <tr style=\"text-align: right;\">\n",
       "      <th></th>\n",
       "      <th>실제값</th>\n",
       "      <th>예측값</th>\n",
       "    </tr>\n",
       "  </thead>\n",
       "  <tbody>\n",
       "    <tr>\n",
       "      <th>1178</th>\n",
       "      <td>1</td>\n",
       "      <td>1.0</td>\n",
       "    </tr>\n",
       "    <tr>\n",
       "      <th>865</th>\n",
       "      <td>1</td>\n",
       "      <td>1.0</td>\n",
       "    </tr>\n",
       "    <tr>\n",
       "      <th>101</th>\n",
       "      <td>1</td>\n",
       "      <td>1.0</td>\n",
       "    </tr>\n",
       "    <tr>\n",
       "      <th>439</th>\n",
       "      <td>1</td>\n",
       "      <td>1.0</td>\n",
       "    </tr>\n",
       "    <tr>\n",
       "      <th>58</th>\n",
       "      <td>1</td>\n",
       "      <td>1.0</td>\n",
       "    </tr>\n",
       "    <tr>\n",
       "      <th>1120</th>\n",
       "      <td>1</td>\n",
       "      <td>1.0</td>\n",
       "    </tr>\n",
       "    <tr>\n",
       "      <th>323</th>\n",
       "      <td>1</td>\n",
       "      <td>1.0</td>\n",
       "    </tr>\n",
       "    <tr>\n",
       "      <th>974</th>\n",
       "      <td>1</td>\n",
       "      <td>1.0</td>\n",
       "    </tr>\n",
       "    <tr>\n",
       "      <th>411</th>\n",
       "      <td>1</td>\n",
       "      <td>1.0</td>\n",
       "    </tr>\n",
       "    <tr>\n",
       "      <th>855</th>\n",
       "      <td>1</td>\n",
       "      <td>1.0</td>\n",
       "    </tr>\n",
       "  </tbody>\n",
       "</table>\n",
       "</div>"
      ],
      "text/plain": [
       "      실제값  예측값\n",
       "1178    1  1.0\n",
       "865     1  1.0\n",
       "101     1  1.0\n",
       "439     1  1.0\n",
       "58      1  1.0\n",
       "1120    1  1.0\n",
       "323     1  1.0\n",
       "974     1  1.0\n",
       "411     1  1.0\n",
       "855     1  1.0"
      ]
     },
     "execution_count": 71,
     "metadata": {},
     "output_type": "execute_result"
    }
   ],
   "source": [
    "# 이용자수 분포 확인\n",
    "print(model_df['이용자수'].value_counts())\n",
    "\n",
    "# 예측값 비교\n",
    "pd.DataFrame({'실제값': y_test, '예측값': y_pred}).head(10)\n"
   ]
  },
  {
   "cell_type": "code",
   "execution_count": 107,
   "id": "66c78f7e-abc0-4b91-8131-627b9bca3a2f",
   "metadata": {},
   "outputs": [
    {
     "name": "stdout",
     "output_type": "stream",
     "text": [
      "              precision    recall  f1-score   support\n",
      "\n",
      "           0       1.00      1.00      1.00       200\n",
      "\n",
      "    accuracy                           1.00       200\n",
      "   macro avg       1.00      1.00      1.00       200\n",
      "weighted avg       1.00      1.00      1.00       200\n",
      "\n"
     ]
    }
   ],
   "source": [
    "# \"특정 시간대의 특정 정류장이 혼잡한지 분류하는 모델\"\n",
    "\n",
    "import pandas as pd\n",
    "from sklearn.ensemble import RandomForestClassifier\n",
    "from sklearn.model_selection import train_test_split\n",
    "from sklearn.pipeline import Pipeline\n",
    "from sklearn.compose import ColumnTransformer\n",
    "from sklearn.preprocessing import OneHotEncoder\n",
    "from sklearn.metrics import classification_report\n",
    "\n",
    "# 데이터 불러오기 및 전처리\n",
    "df = pd.read_csv(\"data/ts.csv\")\n",
    "df['승차일시_dt'] = pd.to_datetime(df['승차일시'], format='%Y%m%d%H%M%S')\n",
    "df['승차시'] = df['승차일시_dt'].dt.hour\n",
    "df['요일'] = df['승차일시_dt'].dt.dayofweek\n",
    "df['교통수단'] = df['교통수단코드'].map({'1': '버스', '2': '지하철'})\n",
    "df['이용자유형'] = df['이용자유형코드(시스템)'].map({'01': '일반', '02': '어린이', '03': '청소년', '04': '노인'})\n",
    "df['정산사승차정류장ID'] = df['정산사승차정류장ID'].astype(str)\n",
    "\n",
    "# 혼잡 기준 생성: 정류장+시간대 기준으로 평균 이상이면 혼잡\n",
    "group_avg = df.groupby(['정산사승차정류장ID', '승차시'])['이용자수'].mean().reset_index()\n",
    "group_avg.rename(columns={'이용자수': '평균이용자수'}, inplace=True)\n",
    "\n",
    "df = df.merge(group_avg, on=['정산사승차정류장ID', '승차시'])\n",
    "df['혼잡라벨'] = (df['이용자수'] > df['평균이용자수']).astype(int)\n",
    "\n",
    "# 분류 모델 입력과 타깃 구성\n",
    "X = df[['정산사승차정류장ID', '승차시', '요일', '교통수단', '이용자유형']]\n",
    "y = df['혼잡라벨']\n",
    "\n",
    "# 범주형 처리 + 모델 파이프라인 구성\n",
    "categorical = ['정산사승차정류장ID', '요일', '교통수단', '이용자유형']\n",
    "preprocessor = ColumnTransformer(\n",
    "    transformers=[('cat', OneHotEncoder(), categorical)],\n",
    "    remainder='passthrough'\n",
    ")\n",
    "\n",
    "pipeline = Pipeline([\n",
    "    ('preprocessor', preprocessor),\n",
    "    ('classifier', RandomForestClassifier(n_estimators=100, random_state=42))\n",
    "])\n",
    "\n",
    "# 학습 및 평가\n",
    "X_train, X_test, y_train, y_test = train_test_split(X, y, stratify=y, test_size=0.2, random_state=42)\n",
    "pipeline.fit(X_train, y_train)\n",
    "y_pred = pipeline.predict(X_test)\n",
    "\n",
    "print(classification_report(y_test, y_pred))\n"
   ]
  },
  {
   "cell_type": "code",
   "execution_count": 109,
   "id": "2747a756-7ae3-4c75-af58-37889e82ceb6",
   "metadata": {},
   "outputs": [
    {
     "name": "stdout",
     "output_type": "stream",
     "text": [
      "            승차시        요일          이용거리       탑승시간\n",
      "클러스터                                              \n",
      "0     18.361272  2.586705  10473.543353  30.364162\n",
      "1      5.740854  2.625000   8274.457317  33.673780\n",
      "2     10.110429  3.852761  20181.705521  30.993865\n"
     ]
    }
   ],
   "source": [
    "# 목표: 비슷한 승객 유형 또는 이동 패턴 클러스터링\n",
    "# 입력: 승차일시, 요일, 이용거리, 탑승시간, 교통수단\n",
    "# 클러스터: 출근형(정시, 장거리), 통학형(단시간, 어린이/청소년), 여가형 등 분리될 수 있음\n",
    "\n",
    "from sklearn.cluster import KMeans\n",
    "from sklearn.preprocessing import StandardScaler\n",
    "\n",
    "# 군집용 데이터 선택\n",
    "features = df[['승차시', '요일', '이용거리', '탑승시간']].dropna()\n",
    "\n",
    "# 정규화\n",
    "scaler = StandardScaler()\n",
    "X_scaled = scaler.fit_transform(features)\n",
    "\n",
    "# KMeans 군집화\n",
    "kmeans = KMeans(n_clusters=3, random_state=42)\n",
    "df['클러스터'] = kmeans.fit_predict(X_scaled)\n",
    "\n",
    "# 클러스터별 특성 확인\n",
    "print(df.groupby('클러스터')[['승차시', '요일', '이용거리', '탑승시간']].mean())\n"
   ]
  },
  {
   "cell_type": "code",
   "execution_count": null,
   "id": "f3a2d067-98ff-4723-bb97-b9a7061cd1ec",
   "metadata": {},
   "outputs": [],
   "source": []
  }
 ],
 "metadata": {
  "kernelspec": {
   "display_name": "Python [conda env:base] *",
   "language": "python",
   "name": "conda-base-py"
  },
  "language_info": {
   "codemirror_mode": {
    "name": "ipython",
    "version": 3
   },
   "file_extension": ".py",
   "mimetype": "text/x-python",
   "name": "python",
   "nbconvert_exporter": "python",
   "pygments_lexer": "ipython3",
   "version": "3.12.7"
  }
 },
 "nbformat": 4,
 "nbformat_minor": 5
}

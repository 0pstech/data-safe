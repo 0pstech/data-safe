{
 "cells": [
  {
   "cell_type": "markdown",
   "id": "f6d732b6-7be6-43e6-a291-7a14645f8d3b",
   "metadata": {},
   "source": [
    "## 1. 핀테크 컨시어지 정보\n",
    "- **데이터**  \n",
    "  고객의 신용·보험·연금·통신료 납부 이력 등 프로파일링 데이터\n",
    "\n",
    "### 1.1 신용점수 등급 예측 모델링\n",
    "- **입력 변수**  \n",
    "  - 평균 보험 가입 기간 · 납부 보험료  \n",
    "  - 통신 요금 납부 패턴  \n",
    "  - 연금 가입 유형 · 가입 기간  \n",
    "- **목표 변수**  \n",
    "  - `신용점수_등급`  \n",
    "- **활용**  \n",
    "  - 신용평가 자동화  \n",
    "  - 대출 한도 산정 보조  \n",
    "\n",
    "### 1.2 납부 불이행 리스크 분석\n",
    "- 통신료·연금 미납 금액, 보험 납부 이력 결함(납부 중단 등)을 종합  \n",
    "- 잠재적 연체 고위험군 (High-risk cohort) 식별  \n",
    "\n",
    "### 1.3 지역(시도)별 금융 복지 지표\n",
    "- **비교 지표**  \n",
    "  - 시도명별 평균 보험 납부액  \n",
    "  - 연금 가입률  \n",
    "  - 통신료 납부액  \n",
    "- **활용**  \n",
    "  - 공공·민간 지원 정책 타깃팅  \n",
    "\n",
    "---\n",
    "\n",
    "## 2. 핀테크 카드내역 정보\n",
    "- **데이터**  \n",
    "  월별 카드 사용 내역 (금액, 업종, 결제 방법)\n",
    "\n",
    "### 2.1 월별·업종별 소비 트렌드 분석\n",
    "- 대·소 카테고리별 월간 매출 합계 변화 추이  \n",
    "- 프로모션·신상품 출시 효과 측정  \n",
    "\n",
    "### 2.2 고객 RFM 세분화\n",
    "- **Recency** (최종 사용 시점)  \n",
    "- **Frequency** (거래 빈도)  \n",
    "- **Monetary** (총 이용 금액)  \n",
    "- → VIP · 충성 · 휴면 · 이탈 고객 군집화  \n",
    "\n",
    "### 2.3 결제방법 선호도 분석\n",
    "- 일시불 vs 할부 비중  \n",
    "- 연령대·카드사별 비교  \n",
    "\n",
    "### 2.4 할부 전환율 예측 모델\n",
    "- 머신러닝 기반 예측  \n",
    "\n",
    "---\n",
    "\n",
    "## 3. 핀테크 여수신내역 정보\n",
    "- **데이터**  \n",
    "  대출 · 예·적금 등 여수신 상품 이용 내역\n",
    "\n",
    "### 3.1 대출 리스크 평가\n",
    "- **피처**  \n",
    "  평균 연봉 · 고용 형태 · 주거 · 차량 소유 여부 · 대출 목적  \n",
    "- **목표**  \n",
    "  상환 정보(정상 vs 연체) 예측 모델링  \n",
    "\n",
    "### 3.2 상품별 한도·금리 최적화 제안\n",
    "- 고객 프로파일별 평균 금리·한도 분포 분석  \n",
    "- 개인별 목표 한도·금리 패키지 추천  \n",
    "\n",
    "### 3.3 개인회생 케이스 분석\n",
    "- 개인회생 여부와 상환 정보, 심사 실행 결과 간 관계 탐색  \n",
    "- 재기를 돕는 맞춤형 대출 구조 설계  \n",
    "\n",
    "---\n",
    "\n",
    "## 4. 데이터 결합 시나리오\n",
    "\n",
    "| 결합 대상                    | 분석 주제                                 | 기대 효과                                                        |\n",
    "| ---------------------------- | ----------------------------------------- | ---------------------------------------------------------------- |\n",
    "| 컨시어지 + 카드내역          | 프로파일 기반 소비추천 시스템             | 고객 신용·보험·통신 프로파일에 맞춘 업종·상품 제안              |\n",
    "| 카드내역 + 여수신내역        | CRS(신용 회전율) 분석 및 관리             | 카드·대출 이용 현황 상관관계 파악 → 교차 판매·리스크 관리       |\n",
    "| 컨시어지 + 여수신내역        | 연체 예측 모델링 강화                     | 통신·연금 미납 이력 + 대출 상환정보 결합으로 연체 리스크 정확도 향상 |\n",
    "| 컨시어지 + 카드 + 여수신내역 | 고객 라이프타임 밸류(LTV) 예측 & 세그멘테이션 | 프로파일·소비·대출 전 영역 데이터를 활용한 고객 가치 스코어링, VIP 고객 유지 및 이탈 방지 |\n"
   ]
  },
  {
   "cell_type": "code",
   "execution_count": 1,
   "id": "e810e4d5-384e-4ce7-b77c-94c1e1f3b13d",
   "metadata": {},
   "outputs": [],
   "source": [
    "import pandas as pd\n",
    "import numpy as np\n",
    "import matplotlib.pyplot as plt\n",
    "import matplotlib.font_manager as fm\n",
    "import platform\n",
    "from sklearn.preprocessing import LabelEncoder\n",
    "from sklearn.model_selection import train_test_split\n",
    "from sklearn.ensemble import RandomForestClassifier\n",
    "from sklearn.metrics import classification_report\n",
    "\n",
    "# 운영체제에 따라 폰트 설정\n",
    "if platform.system() == 'Windows':\n",
    "    plt.rcParams['font.family'] = 'Malgun Gothic'  # 윈도우 기본 한글 폰트\n",
    "elif platform.system() == 'Darwin':  # macOS\n",
    "    plt.rcParams['font.family'] = 'AppleGothic'\n",
    "else:\n",
    "    plt.rcParams['font.family'] = 'NanumGothic'  # 리눅스용 나눔폰트 설치 필요\n",
    "\n",
    "# 마이너스 깨짐 방지\n",
    "plt.rcParams['axes.unicode_minus'] = False"
   ]
  },
  {
   "cell_type": "code",
   "execution_count": 7,
   "id": "bb2f4ae6-78ad-4be0-b142-e9e155fd2f38",
   "metadata": {},
   "outputs": [
    {
     "data": {
      "text/plain": [
       "((1000, 12), (1000, 14))"
      ]
     },
     "execution_count": 7,
     "metadata": {},
     "output_type": "execute_result"
    }
   ],
   "source": [
    "df_conc = pd.read_csv('data/concierge.csv', encoding='utf-8-sig')\n",
    "df_loan = pd.read_csv('data/loan.csv', encoding='utf-8-sig')\n",
    "\n",
    "df_conc.shape, df_loan.shape"
   ]
  },
  {
   "cell_type": "code",
   "execution_count": 27,
   "id": "4e6828ff-d096-4f25-ae0f-e520aeff8c84",
   "metadata": {},
   "outputs": [
    {
     "data": {
      "text/plain": [
       "Index(['모집년도', '전형구분', '전형유형', '지원학과(부)', '출신고교계열', '학생부_평균등급', '학생부_국어등급',\n",
       "       '학생부_영어등급', '학생부_수학등급', '수능_백분위', '고교소재국가', '최종합격여부'],\n",
       "      dtype='object')"
      ]
     },
     "execution_count": 27,
     "metadata": {},
     "output_type": "execute_result"
    }
   ],
   "source": [
    "df.columns"
   ]
  },
  {
   "cell_type": "code",
   "execution_count": 9,
   "id": "337f4723-664f-4f7f-9ad6-7068f5e3991f",
   "metadata": {},
   "outputs": [
    {
     "name": "stdout",
     "output_type": "stream",
     "text": [
      "=== 신용점수 등급 예측 성능 ===\n",
      "              precision    recall  f1-score   support\n",
      "\n",
      "           1       0.00      0.00      0.00        25\n",
      "           2       0.10      0.08      0.09        37\n",
      "           3       0.44      0.62      0.52        88\n",
      "           4       0.11      0.13      0.12        30\n",
      "           5       0.00      0.00      0.00        20\n",
      "\n",
      "    accuracy                           0.31       200\n",
      "   macro avg       0.13      0.17      0.14       200\n",
      "weighted avg       0.23      0.31      0.26       200\n",
      "\n"
     ]
    },
    {
     "name": "stderr",
     "output_type": "stream",
     "text": [
      "/opt/anaconda3/lib/python3.12/site-packages/sklearn/metrics/_classification.py:1531: UndefinedMetricWarning: Precision is ill-defined and being set to 0.0 in labels with no predicted samples. Use `zero_division` parameter to control this behavior.\n",
      "  _warn_prf(average, modifier, f\"{metric.capitalize()} is\", len(result))\n",
      "/opt/anaconda3/lib/python3.12/site-packages/sklearn/metrics/_classification.py:1531: UndefinedMetricWarning: Precision is ill-defined and being set to 0.0 in labels with no predicted samples. Use `zero_division` parameter to control this behavior.\n",
      "  _warn_prf(average, modifier, f\"{metric.capitalize()} is\", len(result))\n",
      "/opt/anaconda3/lib/python3.12/site-packages/sklearn/metrics/_classification.py:1531: UndefinedMetricWarning: Precision is ill-defined and being set to 0.0 in labels with no predicted samples. Use `zero_division` parameter to control this behavior.\n",
      "  _warn_prf(average, modifier, f\"{metric.capitalize()} is\", len(result))\n"
     ]
    }
   ],
   "source": [
    "# 1) 신용점수 등급 예측 모델링\n",
    "df = df_conc.copy()\n",
    "\n",
    "# 범주형 변수 인코딩\n",
    "le_ins = LabelEncoder()\n",
    "df['보험가입유형_enc'] = le_ins.fit_transform(df['보험가입유형'])\n",
    "le_tel = LabelEncoder()\n",
    "df['통신납부유형_enc'] = le_tel.fit_transform(df['통신요금납부유형'])\n",
    "le_pen = LabelEncoder()\n",
    "df['연금가입유형_enc'] = le_pen.fit_transform(df['연금가입유형'])\n",
    "\n",
    "# 피처, 타깃 설정\n",
    "features = [\n",
    "    '평균보험가입기간', '평균납부보험료', '평균통신요금납부금액',\n",
    "    '연금가입기간', '국민연금미납금액',\n",
    "    '보험가입유형_enc', '통신납부유형_enc', '연금가입유형_enc'\n",
    "]\n",
    "X = df[features]\n",
    "y = df['신용점수_등급'].astype(int)\n",
    "\n",
    "# 학습/평가 분할\n",
    "X_train, X_test, y_train, y_test = train_test_split(\n",
    "    X, y, test_size=0.2, random_state=42\n",
    ")\n",
    "\n",
    "# 모델 학습 및 예측\n",
    "clf = RandomForestClassifier(n_estimators=100, random_state=42)\n",
    "clf.fit(X_train, y_train)\n",
    "y_pred = clf.predict(X_test)\n",
    "\n",
    "print(\"=== 신용점수 등급 예측 성능 ===\")\n",
    "print(classification_report(y_test, y_pred))"
   ]
  },
  {
   "cell_type": "code",
   "execution_count": 11,
   "id": "b15690bc-b420-46c2-aba2-13fee26f79a6",
   "metadata": {},
   "outputs": [
    {
     "name": "stdout",
     "output_type": "stream",
     "text": [
      "\n",
      "고위험(High-risk) 군 비율: 85.40%\n"
     ]
    }
   ],
   "source": [
    "\n",
    "# 2) 납부 불이행 리스크 분석 (High-risk cohort 식별)\n",
    "risk = df.copy()\n",
    "risk['고위험여부'] = np.where(\n",
    "    (risk['통신요금납부유형'] != '정상') |\n",
    "    (risk['국민연금미납금액'] > 50000) |\n",
    "    (risk['평균납부보험료'] < 80000),\n",
    "    1, 0\n",
    ")\n",
    "high_risk_rate = risk['고위험여부'].mean()\n",
    "print(f\"\\n고위험(High-risk) 군 비율: {high_risk_rate:.2%}\")\n"
   ]
  },
  {
   "cell_type": "code",
   "execution_count": 13,
   "id": "6b845667-af4e-4b7e-9546-07d556369923",
   "metadata": {},
   "outputs": [
    {
     "name": "stdout",
     "output_type": "stream",
     "text": [
      "\n",
      "=== 연체 예측 모델 성능 (컨시어지+여수신 통합) ===\n",
      "              precision    recall  f1-score   support\n",
      "\n",
      "           0       1.00      0.50      0.67         2\n",
      "           1       0.00      0.00      0.00         0\n",
      "\n",
      "    accuracy                           0.50         2\n",
      "   macro avg       0.50      0.25      0.33         2\n",
      "weighted avg       1.00      0.50      0.67         2\n",
      "\n"
     ]
    },
    {
     "name": "stderr",
     "output_type": "stream",
     "text": [
      "/opt/anaconda3/lib/python3.12/site-packages/sklearn/metrics/_classification.py:1531: UndefinedMetricWarning: Recall is ill-defined and being set to 0.0 in labels with no true samples. Use `zero_division` parameter to control this behavior.\n",
      "  _warn_prf(average, modifier, f\"{metric.capitalize()} is\", len(result))\n",
      "/opt/anaconda3/lib/python3.12/site-packages/sklearn/metrics/_classification.py:1531: UndefinedMetricWarning: Recall is ill-defined and being set to 0.0 in labels with no true samples. Use `zero_division` parameter to control this behavior.\n",
      "  _warn_prf(average, modifier, f\"{metric.capitalize()} is\", len(result))\n",
      "/opt/anaconda3/lib/python3.12/site-packages/sklearn/metrics/_classification.py:1531: UndefinedMetricWarning: Recall is ill-defined and being set to 0.0 in labels with no true samples. Use `zero_division` parameter to control this behavior.\n",
      "  _warn_prf(average, modifier, f\"{metric.capitalize()} is\", len(result))\n"
     ]
    }
   ],
   "source": [
    "# 3) 컨시어지 + 여수신내역 결합 후 연체 예측 모델링 강화\n",
    "# 키 컬럼: ['고객ID','기준년월','시도명']\n",
    "df_merge = pd.merge(\n",
    "    df_conc, df_loan,\n",
    "    on=['고객ID','기준년월','시도명'],\n",
    "    how='inner'\n",
    ")\n",
    "\n",
    "# 타깃 연체여부 생성\n",
    "df_merge['연체여부'] = df_merge['상환정보'].map({'정상': 0, '연체': 1})\n",
    "\n",
    "# 선택 피처\n",
    "features2 = [\n",
    "    '평균통신요금납부금액', '국민연금미납금액',\n",
    "    '평균보험가입기간', '평균납부보험료', '연금가입기간'\n",
    "]\n",
    "X2 = df_merge[features2]\n",
    "y2 = df_merge['연체여부']\n",
    "\n",
    "# 학습/평가 분할\n",
    "X2_train, X2_test, y2_train, y2_test = train_test_split(\n",
    "    X2, y2, test_size=0.2, random_state=42\n",
    ")\n",
    "\n",
    "# 모델 학습 및 예측\n",
    "clf2 = RandomForestClassifier(n_estimators=100, random_state=42)\n",
    "clf2.fit(X2_train, y2_train)\n",
    "y2_pred = clf2.predict(X2_test)\n",
    "\n",
    "print(\"\\n=== 연체 예측 모델 성능 (컨시어지+여수신 통합) ===\")\n",
    "print(classification_report(y2_test, y2_pred))"
   ]
  },
  {
   "cell_type": "code",
   "execution_count": null,
   "id": "8ae1bfdf-4e04-4783-b5bc-d245f531fc99",
   "metadata": {},
   "outputs": [],
   "source": []
  }
 ],
 "metadata": {
  "kernelspec": {
   "display_name": "Python [conda env:base] *",
   "language": "python",
   "name": "conda-base-py"
  },
  "language_info": {
   "codemirror_mode": {
    "name": "ipython",
    "version": 3
   },
   "file_extension": ".py",
   "mimetype": "text/x-python",
   "name": "python",
   "nbconvert_exporter": "python",
   "pygments_lexer": "ipython3",
   "version": "3.12.7"
  }
 },
 "nbformat": 4,
 "nbformat_minor": 5
}

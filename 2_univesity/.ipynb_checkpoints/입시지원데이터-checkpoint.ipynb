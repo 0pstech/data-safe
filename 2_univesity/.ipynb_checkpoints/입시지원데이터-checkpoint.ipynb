{
 "cells": [
  {
   "cell_type": "code",
   "execution_count": 23,
   "id": "e810e4d5-384e-4ce7-b77c-94c1e1f3b13d",
   "metadata": {},
   "outputs": [],
   "source": [
    "import pandas as pd\n",
    "import numpy as np\n",
    "import matplotlib.pyplot as plt\n",
    "import matplotlib.font_manager as fm\n",
    "import platform\n",
    "from sklearn.model_selection import train_test_split\n",
    "from sklearn.ensemble import RandomForestClassifier\n",
    "from sklearn.metrics import classification_report\n",
    "from sklearn.neighbors import NearestNeighbors\n",
    "\n",
    "# 운영체제에 따라 폰트 설정\n",
    "if platform.system() == 'Windows':\n",
    "    plt.rcParams['font.family'] = 'Malgun Gothic'  # 윈도우 기본 한글 폰트\n",
    "elif platform.system() == 'Darwin':  # macOS\n",
    "    plt.rcParams['font.family'] = 'AppleGothic'\n",
    "else:\n",
    "    plt.rcParams['font.family'] = 'NanumGothic'  # 리눅스용 나눔폰트 설치 필요\n",
    "\n",
    "# 마이너스 깨짐 방지\n",
    "plt.rcParams['axes.unicode_minus'] = False"
   ]
  },
  {
   "cell_type": "code",
   "execution_count": 25,
   "id": "bb2f4ae6-78ad-4be0-b142-e9e155fd2f38",
   "metadata": {},
   "outputs": [
    {
     "data": {
      "text/plain": [
       "(1200, 12)"
      ]
     },
     "execution_count": 25,
     "metadata": {},
     "output_type": "execute_result"
    }
   ],
   "source": [
    "df = pd.read_csv('data/student.csv', encoding='utf-8')\n",
    "\n",
    "df.shape"
   ]
  },
  {
   "cell_type": "code",
   "execution_count": 27,
   "id": "4e6828ff-d096-4f25-ae0f-e520aeff8c84",
   "metadata": {},
   "outputs": [
    {
     "data": {
      "text/plain": [
       "Index(['모집년도', '전형구분', '전형유형', '지원학과(부)', '출신고교계열', '학생부_평균등급', '학생부_국어등급',\n",
       "       '학생부_영어등급', '학생부_수학등급', '수능_백분위', '고교소재국가', '최종합격여부'],\n",
       "      dtype='object')"
      ]
     },
     "execution_count": 27,
     "metadata": {},
     "output_type": "execute_result"
    }
   ],
   "source": [
    "df.columns"
   ]
  },
  {
   "cell_type": "code",
   "execution_count": 29,
   "id": "abe96502-edf2-47ac-a824-1cdf34fe417a",
   "metadata": {},
   "outputs": [
    {
     "data": {
      "text/plain": [
       "(1200, 12)"
      ]
     },
     "execution_count": 29,
     "metadata": {},
     "output_type": "execute_result"
    }
   ],
   "source": [
    "# 2. 기본 전처리\n",
    "# '최종합격여부'를 1/0으로 변환\n",
    "df['최종합격여부'] = df['최종합격여부'].map({'Y':1, 'N':0})\n",
    "\n",
    "# 숫자형 변환\n",
    "num_cols = ['학생부_평균등급', '학생부_국어등급', '학생부_영어등급',\n",
    "            '학생부_수학등급', '수능_백분위']\n",
    "df[num_cols] = df[num_cols].apply(pd.to_numeric, errors='coerce')\n",
    "\n",
    "# 결측치는 평균으로 대체\n",
    "df.fillna(df.mean(numeric_only=True), inplace=True)\n",
    "df.shape"
   ]
  },
  {
   "cell_type": "code",
   "execution_count": 31,
   "id": "3cf365a9-092a-435c-a0d6-bd3a8c3d6179",
   "metadata": {},
   "outputs": [
    {
     "name": "stdout",
     "output_type": "stream",
     "text": [
      "연도별 합격선 (최저 수능 백분위):\n",
      "   모집년도  cutoff_score\n",
      "0  2020            51\n",
      "1  2021            50\n",
      "2  2022            50\n",
      "3  2023            50\n",
      "4  2024            50\n"
     ]
    }
   ],
   "source": [
    "# 3. 연도별 합격선 분석 (최종합격자 중 최소 수능 백분위)\n",
    "cutoff = (\n",
    "    df[df['최종합격여부'] == 1]\n",
    "    .groupby('모집년도')['수능_백분위']\n",
    "    .min()\n",
    "    .reset_index()\n",
    "    .rename(columns={'수능_백분위':'cutoff_score'})\n",
    ")\n",
    "\n",
    "print(\"연도별 합격선 (최저 수능 백분위):\")\n",
    "print(cutoff)"
   ]
  },
  {
   "cell_type": "code",
   "execution_count": 35,
   "id": "70f2c053-993f-4fd0-91fe-72322d69cdc2",
   "metadata": {},
   "outputs": [
    {
     "data": {
      "text/plain": [
       "<Figure size 1200x600 with 0 Axes>"
      ]
     },
     "metadata": {},
     "output_type": "display_data"
    },
    {
     "data": {
      "image/png": "[encoded data removed]",
      "text/plain": [
       "<Figure size 640x480 with 1 Axes>"
      ]
     },
     "metadata": {},
     "output_type": "display_data"
    }
   ],
   "source": [
    "# 4. 학과별 성적분포 시각화 (수능 백분위)\n",
    "plt.figure(figsize=(12,6))\n",
    "df.boxplot(column='수능_백분위', by='지원학과(부)', rot=90)\n",
    "plt.title('학과별 수능 백분위 분포')\n",
    "plt.suptitle('')\n",
    "plt.ylabel('수능 백분위')\n",
    "plt.tight_layout()\n",
    "plt.show()"
   ]
  },
  {
   "cell_type": "code",
   "execution_count": 33,
   "id": "1aaa2c94-8817-4801-a6e7-b926e452bcef",
   "metadata": {},
   "outputs": [
    {
     "name": "stdout",
     "output_type": "stream",
     "text": [
      "\n",
      "분류 모델 성능:\n",
      "              precision    recall  f1-score   support\n",
      "\n",
      "         불합격       0.46      0.40      0.43        89\n",
      "          합격       0.67      0.72      0.70       151\n",
      "\n",
      "    accuracy                           0.60       240\n",
      "   macro avg       0.57      0.56      0.56       240\n",
      "weighted avg       0.59      0.60      0.60       240\n",
      "\n"
     ]
    }
   ],
   "source": [
    "\n",
    "# 5. 최종합격 여부 분류모델\n",
    "features = num_cols\n",
    "X = df[features]\n",
    "y = df['최종합격여부']\n",
    "\n",
    "X_train, X_test, y_train, y_test = train_test_split(\n",
    "    X, y, test_size=0.2, random_state=42\n",
    ")\n",
    "model = RandomForestClassifier(random_state=42)\n",
    "model.fit(X_train, y_train)\n",
    "\n",
    "y_pred = model.predict(X_test)\n",
    "print(\"\\n분류 모델 성능:\")\n",
    "print(classification_report(y_test, y_pred, target_names=['불합격','합격']))\n"
   ]
  },
  {
   "cell_type": "code",
   "execution_count": 37,
   "id": "337f4723-664f-4f7f-9ad6-7068f5e3991f",
   "metadata": {},
   "outputs": [
    {
     "name": "stdout",
     "output_type": "stream",
     "text": [
      "\n",
      "0번 지원자와 유사한 합격자:\n",
      "      모집년도 전형구분   전형유형 지원학과(부) 출신고교계열  학생부_평균등급  학생부_국어등급  학생부_영어등급  학생부_수학등급  \\\n",
      "1053  2020   수시   교과전형   기계공학과    예체능       4.1         3         4         4   \n",
      "282   2020   수시   교과전형  컴퓨터공학과    예체능       2.8         3         5         4   \n",
      "585   2024   수시  특기자전형   전자공학과     이과       3.9         2         6         3   \n",
      "84    2020   정시  특기자전형   화학공학과     문과       2.3         3         3         3   \n",
      "864   2022   수시   논술전형   기계공학과    예체능       1.9         1         4         4   \n",
      "\n",
      "      수능_백분위 고교소재국가  최종합격여부  \n",
      "1053      80     미국       0  \n",
      "282       79     중국       0  \n",
      "585       79     중국       0  \n",
      "84        78     미국       0  \n",
      "864       79     미국       0  \n"
     ]
    }
   ],
   "source": [
    "# 6. 유사조건 합격자 검색기\n",
    "nn = NearestNeighbors(n_neighbors=6)\n",
    "nn.fit(X)\n",
    "\n",
    "def find_similar(idx, n=5):\n",
    "    dists, idxs = nn.kneighbors(X.iloc[[idx]], n_neighbors=n+1)\n",
    "    similar = idxs[0][1:]\n",
    "    return df.iloc[similar]\n",
    "\n",
    "# 예시: 0번 인덱스 지원자와 유사한 5명\n",
    "print(\"\\n0번 지원자와 유사한 합격자:\")\n",
    "print(find_similar(0))"
   ]
  },
  {
   "cell_type": "code",
   "execution_count": null,
   "id": "b15690bc-b420-46c2-aba2-13fee26f79a6",
   "metadata": {},
   "outputs": [],
   "source": []
  }
 ],
 "metadata": {
  "kernelspec": {
   "display_name": "Python [conda env:base] *",
   "language": "python",
   "name": "conda-base-py"
  },
  "language_info": {
   "codemirror_mode": {
    "name": "ipython",
    "version": 3
   },
   "file_extension": ".py",
   "mimetype": "text/x-python",
   "name": "python",
   "nbconvert_exporter": "python",
   "pygments_lexer": "ipython3",
   "version": "3.12.7"
  }
 },
 "nbformat": 4,
 "nbformat_minor": 5
}
